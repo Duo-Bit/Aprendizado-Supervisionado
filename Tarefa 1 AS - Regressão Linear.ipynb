{
 "cells": [
  {
   "cell_type": "markdown",
   "metadata": {
    "deletable": false,
    "editable": false
   },
   "source": [
    "# Tarefa 1 - Regressão Linear\n",
    "#### Você recebeu dados da receita da empresa, e você precisa traçar a melhor linha que se ajusta aos dados, nós fornecemos uma inclinação 'm' uma interceptação 'b' que parece descrever os dados da receita que você recebeu, os meses são nossas variáveis indepentes(X)."
   ]
  },
  {
   "cell_type": "code",
   "execution_count": 7,
   "metadata": {},
   "outputs": [],
   "source": [
    "import seaborn as sns\n",
    "import matplotlib.pyplot as plt\n",
    "\n",
    "meses = [1, 2, 3, 4, 5, 6, 7, 8, 9, 10, 11, 12]\n",
    "receita = [52, 74, 79, 95, 115, 110, 129, 126, 147, 146, 156, 184]\n",
    "\n",
    "#inclinação:\n",
    "m = 10\n",
    "\n",
    "#interceptação:\n",
    "b = 53"
   ]
  },
  {
   "cell_type": "markdown",
   "metadata": {},
   "source": [
    "## Questão 1\n",
    "#### Hora de usar a fórmula de Regressão Linear (y = m.x + b), para traçarmos nossa linha, crie uma nova lista, ‘y’ que tenha todos os elementos ‘meses’ multiplicado por ‘m’ e somado a ‘b’."
   ]
  },
  {
   "cell_type": "code",
   "execution_count": null,
   "metadata": {},
   "outputs": [],
   "source": [
    "y = ['coloque sua resposta aqui']"
   ]
  },
  {
   "cell_type": "markdown",
   "metadata": {
    "deletable": false,
    "editable": false
   },
   "source": [
    "# Questão 2\n",
    "#### Agora use a biblioteca matplotlib para criar um gráfico que vai reproduzir os dados das variaveis independentes e as dependentes."
   ]
  },
  {
   "cell_type": "code",
   "execution_count": null,
   "metadata": {},
   "outputs": [],
   "source": [
    "# subistitua só as variáveis o \"o\" siginifica que os dados serão plotados no gráfico de dispersão em forma de bola.\n",
    "plt.plot(\"variável independente aqui\", \"variável dependente aqui\", \"o\")\n",
    "plt.show()"
   ]
  },
  {
   "cell_type": "markdown",
   "metadata": {
    "deletable": false,
    "editable": false
   },
   "source": [
    "# Questão 3\n",
    "#### Agora vamos inserir nossa linha sobre o gráfico.\n",
    "* Crie o gráfico primeiro\n",
    "* Depois plote a linha contra ‘meses’"
   ]
  },
  {
   "cell_type": "code",
   "execution_count": null,
   "metadata": {},
   "outputs": [],
   "source": [
    "plt.plot(\"variável independente aqui\", \"variável dependente aqui\", \"o\")\n",
    "plt.plot(\"variável independente aqui\", \"Linha aqui\")\n",
    "\n",
    "plt.show()"
   ]
  },
  {
   "cell_type": "markdown",
   "metadata": {
    "deletable": false,
    "editable": false
   },
   "source": [
    "# Questão 4\n",
    "#### Altere ‘m’ e ‘b’ para os valores que você acha que correspondem melhor aos dados.\n",
    "\n",
    "#### Como a inclinação deve ser? E a interceptação?\n"
   ]
  },
  {
   "cell_type": "markdown",
   "metadata": {
    "deletable": false,
    "editable": false
   },
   "source": [
    "![title](logo.png)"
   ]
  }
 ],
 "metadata": {
  "celltoolbar": "Edit Metadata",
  "kernelspec": {
   "display_name": "Python 3",
   "language": "python",
   "name": "python3"
  },
  "language_info": {
   "codemirror_mode": {
    "name": "ipython",
    "version": 3
   },
   "file_extension": ".py",
   "mimetype": "text/x-python",
   "name": "python",
   "nbconvert_exporter": "python",
   "pygments_lexer": "ipython3",
   "version": "3.6.5"
  }
 },
 "nbformat": 4,
 "nbformat_minor": 2
}
